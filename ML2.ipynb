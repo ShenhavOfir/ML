{
  "nbformat": 4,
  "nbformat_minor": 0,
  "metadata": {
    "colab": {
      "name": "ML2.ipynb",
      "provenance": [],
      "collapsed_sections": []
    },
    "kernelspec": {
      "display_name": "Python 3",
      "name": "python3"
    },
    "language_info": {
      "name": "python"
    }
  },
  "cells": [
    {
      "cell_type": "code",
      "metadata": {
        "id": "d_KATXlCzrmt"
      },
      "source": [
        "import numpy as np\n",
        "import torch\n",
        "from torch import nn, optim\n",
        "from torch.nn import functional as F\n",
        "from torchvision import datasets, transforms\n",
        "import matplotlib.pyplot as plt"
      ],
      "execution_count": 215,
      "outputs": []
    },
    {
      "cell_type": "code",
      "metadata": {
        "id": "L4llUoyrIonf"
      },
      "source": [
        "class SimpleNN(nn.Module):\n",
        "    def __init__(self, input_size, output_size,activation):\n",
        "        super(SimpleNN, self).__init__()\n",
        "        self.first_linear = nn.Linear(input_size, input_size // 2)\n",
        "        self.second_linear = nn.Linear(input_size // 2, output_size)\n",
        "\n",
        "        self.activation = activation\n",
        "    \n",
        "    def forward(self, x):\n",
        "        out = self.first_linear(x)\n",
        "        out = self.activation(out)\n",
        "        out = self.second_linear(out)\n",
        "        \n",
        "        return out"
      ],
      "execution_count": 216,
      "outputs": []
    },
    {
      "cell_type": "code",
      "metadata": {
        "id": "G2B-KJ8h0YSe"
      },
      "source": [
        "batch_size = 128\n",
        "input_size = 28 * 28\n",
        "output_size = 10\n",
        "num_epochs = 50\n",
        "learning_rate = 1e-3\n",
        "\n",
        "device = torch.device('cuda' if torch.cuda.is_available() else 'cpu')"
      ],
      "execution_count": 217,
      "outputs": []
    },
    {
      "cell_type": "code",
      "metadata": {
        "id": "Xq00dbmE0adD"
      },
      "source": [
        "transform = transforms.Compose([transforms.ToTensor(),\n",
        "                                transforms.Normalize(mean=[0.3081,],std=[0.1306,])])\n",
        "train_dataset = datasets.MNIST(root='./data', \n",
        "                               train=True, \n",
        "                               transform=transform,\n",
        "                               download=True)\n",
        "\n",
        "test_dataset = datasets.MNIST(root='./data', \n",
        "                              train=False, \n",
        "                              transform=transform)\n"
      ],
      "execution_count": 218,
      "outputs": []
    },
    {
      "cell_type": "code",
      "metadata": {
        "id": "xmnRe4oi0dMo"
      },
      "source": [
        "train_loader = torch.utils.data.DataLoader(dataset=train_dataset, \n",
        "                                           batch_size=batch_size, \n",
        "                                           shuffle=True)\n",
        "\n",
        "test_loader = torch.utils.data.DataLoader(dataset=test_dataset, \n",
        "                                          batch_size=batch_size, \n",
        "                                          shuffle=False)"
      ],
      "execution_count": 219,
      "outputs": []
    },
    {
      "cell_type": "code",
      "metadata": {
        "id": "WRsEBdyGTWGk"
      },
      "source": [
        "act=['Sigmoid' ,'ReLU','ELU','Tanh']\n",
        "act_func = [nn.Sigmoid(), nn.ReLU(), nn.ELU(), nn.Tanh()]"
      ],
      "execution_count": 220,
      "outputs": []
    },
    {
      "cell_type": "code",
      "metadata": {
        "id": "VsJH9HG-_MEV"
      },
      "source": [
        "#Traning the models with diffrent activation fun \n",
        "\n"
      ],
      "execution_count": null,
      "outputs": []
    },
    {
      "cell_type": "code",
      "metadata": {
        "id": "_TzV5skqJKVq"
      },
      "source": [
        "train_losses = {\"Sigmoid\":[],'ReLU':[],'ELU':[],'Tanh':[]}\n",
        "test_losses = {\"Sigmoid\":[],'ReLU':[],'ELU':[],'Tanh':[]}\n",
        "\n",
        "train_accs = {\"Sigmoid\":[],'ReLU':[],'ELU':[],'Tanh':[]}\n",
        "test_accs = {\"Sigmoid\":[],'ReLU':[],'ELU':[],'Tanh':[]}"
      ],
      "execution_count": 221,
      "outputs": []
    },
    {
      "cell_type": "code",
      "metadata": {
        "id": "IHZI5hNHL7rr"
      },
      "source": [
        "models=[1,1,1,1]\n",
        "j=-1\n",
        "for activation in act_func:\n",
        "    j+=1\n",
        "    models[j] = SimpleNN(input_size, output_size,activation)\n",
        "    models[j].to(device)\n",
        "    ce_loss = nn.CrossEntropyLoss()\n",
        "    optimizer=torch.optim.Adam(models[j].parameters(), lr=learning_rate)\n",
        "    for epoch in range(num_epochs):\n",
        "      agg_train_loss = 0\n",
        "      agg_test_loss = 0\n",
        "\n",
        "      agg_train_correct = 0\n",
        "      agg_test_correct = 0\n",
        "\n",
        "      # Training\n",
        "      models[j].train(True)\n",
        "      for i, (images, labels) in enumerate(train_loader):\n",
        "        images = images.to(device)\n",
        "        labels = labels.to(device)\n",
        "\n",
        "        images = images.view(images.shape[0], -1)\n",
        "\n",
        "        # Forward + Backward + Optimize\n",
        "        models[j].zero_grad()\n",
        "        outputs = models[j](images)\n",
        "        loss = ce_loss(outputs, labels)\n",
        "        loss.backward()\n",
        "        optimizer.step()\n",
        "\n",
        "        agg_train_loss += loss.item()\n",
        "        _, predicted = torch.max(outputs.data, 1)\n",
        "        agg_train_correct += (predicted == labels).sum()\n",
        "        \n",
        "        \n",
        "      \n",
        "      train_losses[act[j]].append(agg_train_loss / len(train_loader))\n",
        "      train_accs[act[j]].append(agg_train_correct / len(train_dataset))\n",
        "\n",
        "      # Testing\n",
        "      models[j].train(False)\n",
        "      with torch.no_grad():\n",
        "        for i, (images, labels) in enumerate(test_loader):\n",
        "          images = images.to(device)\n",
        "          labels = labels.to(device)\n",
        "\n",
        "          images = images.view(images.shape[0], -1)\n",
        "\n",
        "          # Forward only\n",
        "          outputs = models[j](images)\n",
        "          loss = ce_loss(outputs, labels)\n",
        "\n",
        "          agg_test_loss += loss.item()\n",
        "\n",
        "          _, predicted = torch.max(outputs.data, 1)\n",
        "          agg_test_correct += (predicted == labels).sum()\n",
        "      \n",
        "      test_losses[act[j]].append(agg_test_loss / len(test_loader))\n",
        "      test_accs[act[j]].append(agg_test_correct / len(test_dataset))\n",
        "      print(f'Epoch [{epoch+1}/{num_epochs}], Train loss: {train_losses[act[j]][-1]:.2f}, Acc. {train_accs[act[j]][-1]:.2f}; Test loss: {test_losses[act[j]][-1]:.2f}, Acc. {test_accs[act[j]][-1]:.2f}')"
      ],
      "execution_count": null,
      "outputs": []
    },
    {
      "cell_type": "code",
      "metadata": {
        "id": "C5wYVq0eAagc"
      },
      "source": [
        "#compering between diffrent activation fun by grafh\n"
      ],
      "execution_count": null,
      "outputs": []
    },
    {
      "cell_type": "code",
      "metadata": {
        "id": "wuOlc2v10j4V"
      },
      "source": [
        "\n",
        "def plot_act_func_results(results=[], activation_functions = []):\n",
        "    plt.figure(figsize=(10,10))\n",
        "    plt.style.use('dark_background')\n",
        "    \n",
        "    # Plot validation accuracy values\n",
        "    for act_func in train_losses:\n",
        "        plt.plot(test_accs[act_func])\n",
        "        \n",
        "    plt.title('Model accuracy')\n",
        "    plt.ylabel('Test Accuracy')\n",
        "    plt.xlabel('Epoch')\n",
        "    plt.legend(activation_functions)\n",
        "    plt.show()\n",
        "\n",
        "    \n",
        "    plt.figure(figsize=(10,10))\n",
        "    for act_func in test_losses:\n",
        "        plt.plot(test_losses[act_func])\n",
        "        \n",
        "    plt.title('Model loss')\n",
        "    plt.ylabel('Test Loss')\n",
        "    plt.xlabel('Epoch')\n",
        "    plt.legend(activation_functions)\n",
        "    plt.show()\n",
        "\n",
        "    for act_func in train_losses:\n",
        "        plt.plot(train_losses[act_func])\n",
        "        \n",
        "    plt.title('Model loss')\n",
        "    plt.ylabel('Train Losses')\n",
        "    plt.xlabel('Epoch')\n",
        "    plt.legend(activation_functions)\n",
        "    plt.show()\n",
        "\n",
        "    for act_func in train_accs:\n",
        "        plt.plot(train_accs[act_func])\n",
        "        \n",
        "    plt.title('Model accuracy')\n",
        "    plt.ylabel('Train Accuracy')\n",
        "    plt.xlabel('Epoch')\n",
        "    plt.legend(activation_functions)\n",
        "    plt.show()\n",
        "\n",
        "   \n",
        "plot_act_func_results([train_losses,test_losses,train_accs,test_accs],act)\n"
      ],
      "execution_count": null,
      "outputs": []
    },
    {
      "cell_type": "code",
      "metadata": {
        "id": "wgyQ-0cNCiDT"
      },
      "source": [
        "#compering the accuracy on the test set between diffrent activation function in the final model "
      ],
      "execution_count": null,
      "outputs": []
    },
    {
      "cell_type": "code",
      "metadata": {
        "colab": {
          "base_uri": "https://localhost:8080/"
        },
        "id": "MX_jH4CvAgAG",
        "outputId": "5943933c-8a8a-4a6e-dcf6-0179ee969d25"
      },
      "source": [
        "final_loss={\"Sigmoid\":int,'ReLU':int,'ELU':int,'Tanh':int}\n",
        "for act_func in test_losses:\n",
        "  final_loss[act_func]=test_losses[act_func][-1]\n",
        "print(final_loss)      "
      ],
      "execution_count": null,
      "outputs": [
        {
          "output_type": "stream",
          "name": "stdout",
          "text": [
            "{'Sigmoid': 0.08425121864394573, 'ReLU': 0.1700253376924472, 'ELU': 0.20758811251384432, 'Tanh': 0.09615742560690475}\n"
          ]
        }
      ]
    },
    {
      "cell_type": "code",
      "metadata": {
        "colab": {
          "base_uri": "https://localhost:8080/"
        },
        "id": "BfaQ1YRd6b7o",
        "outputId": "ad72d08d-e5a7-4543-9da8-ce6e4a83fad5"
      },
      "source": [
        "final_acc={\"Sigmoid\":int,'ReLU':int,'ELU':int,'Tanh':int}\n",
        "for act_func in test_accs:\n",
        "  final_acc[act_func]=test_accs[act_func][-1]\n",
        "print(final_acc)"
      ],
      "execution_count": null,
      "outputs": [
        {
          "output_type": "stream",
          "name": "stdout",
          "text": [
            "{'Sigmoid': tensor(0.9746), 'ReLU': tensor(0.9811), 'ELU': tensor(0.9789), 'Tanh': tensor(0.9709)}\n"
          ]
        }
      ]
    },
    {
      "cell_type": "code",
      "metadata": {
        "colab": {
          "base_uri": "https://localhost:8080/"
        },
        "id": "kADtDUdM6zAc",
        "outputId": "3e176fc3-ce5b-4c77-88fc-ba88c935bc47"
      },
      "source": [
        "final_loss={\"Sigmoid\":int,'ReLU':int,'ELU':int,'Tanh':int}\n",
        "for act_func in train_losses:\n",
        "  final_loss[act_func]=train_losses[act_func][-1]\n",
        "print(final_loss) "
      ],
      "execution_count": null,
      "outputs": [
        {
          "output_type": "stream",
          "name": "stdout",
          "text": [
            "{'Sigmoid': 0.027207638469409507, 'ReLU': 0.009639845263987189, 'ELU': 0.008206758595117233, 'Tanh': 0.04265542805486762}\n"
          ]
        }
      ]
    },
    {
      "cell_type": "code",
      "metadata": {
        "colab": {
          "base_uri": "https://localhost:8080/"
        },
        "id": "8k7hX2-d6zXS",
        "outputId": "0c495c42-d210-4caf-babb-828116920f3d"
      },
      "source": [
        "final_acc={\"Sigmoid\":int,'ReLU':int,'ELU':int,'Tanh':int}\n",
        "for act_func in train_accs:\n",
        "  final_loss[act_func]=train_accs[act_func][-1]\n",
        "print(final_loss) "
      ],
      "execution_count": null,
      "outputs": [
        {
          "output_type": "stream",
          "name": "stdout",
          "text": [
            "{'Sigmoid': tensor(0.9908), 'ReLU': tensor(0.9973), 'ELU': tensor(0.9978), 'Tanh': tensor(0.9857)}\n"
          ]
        }
      ]
    },
    {
      "cell_type": "code",
      "metadata": {
        "colab": {
          "base_uri": "https://localhost:8080/",
          "height": 295
        },
        "id": "iiEjgBv93zh7",
        "outputId": "eb9a1419-771f-4d91-db63-6759e997cfdd"
      },
      "source": [
        "plt.plot(test_accs['ReLU'], label='Test acc.')\n",
        "plt.plot(train_accs['ReLU'], label='Train acc.')\n",
        "\n",
        "plt.title('Accuracy / epochs on MNIST')\n",
        "plt.ylabel('Accuracy')\n",
        "plt.xlabel('Epoch')\n",
        "plt.legend()\n",
        "\n",
        "plt.show()"
      ],
      "execution_count": null,
      "outputs": [
        {
          "output_type": "display_data",
          "data": {
            "image/png": "[encoded data removed]",
            "text/plain": [
              "<Figure size 432x288 with 1 Axes>"
            ]
          },
          "metadata": {}
        }
      ]
    },
    {
      "cell_type": "code",
      "metadata": {
        "id": "lBPfQlosCyC5"
      },
      "source": [
        "#as we can see, we get the best performance with tha activation fun Tanh "
      ],
      "execution_count": null,
      "outputs": []
    },
    {
      "cell_type": "code",
      "metadata": {
        "id": "CNhnNqBYDKfM"
      },
      "source": [
        "# now , we will use the Tanh activation function and compare between diffrent number of layers "
      ],
      "execution_count": null,
      "outputs": []
    },
    {
      "cell_type": "code",
      "metadata": {
        "id": "edShLidkxRg8"
      },
      "source": [
        "class SimpleNN_2_layer(nn.Module):\n",
        "    def __init__(self, input_size, output_size):\n",
        "        super(SimpleNN_2_layer, self).__init__()\n",
        "        self.first_linear = nn.Linear(input_size, input_size // 2)\n",
        "        self.second_linear = nn.Linear(input_size // 2, output_size)\n",
        "\n",
        "        self.relu = nn.ReLU()\n",
        "    \n",
        "    def forward(self, x):\n",
        "        out = self.first_linear(x)\n",
        "        out = self.relu(out)\n",
        "        out = self.second_linear(out)\n",
        "        \n",
        "        return out"
      ],
      "execution_count": 222,
      "outputs": []
    },
    {
      "cell_type": "code",
      "metadata": {
        "id": "g9k_YqDhxXN6"
      },
      "source": [
        "model = SimpleNN_2_layer(input_size, output_size)\n",
        "model = model.to(device)\n",
        "\n",
        "criterion = nn.CrossEntropyLoss()"
      ],
      "execution_count": 223,
      "outputs": []
    },
    {
      "cell_type": "code",
      "metadata": {
        "id": "BTCYxYJbxaI-"
      },
      "source": [
        "train_losses = []\n",
        "test_losses = []\n",
        "\n",
        "train_accs = []\n",
        "test_accs = []\n",
        "\n",
        "for epoch in range(num_epochs):\n",
        "  agg_train_loss = 0\n",
        "  agg_test_loss = 0\n",
        "\n",
        "  agg_train_correct = 0\n",
        "  agg_test_correct = 0\n",
        "\n",
        "  # Training\n",
        "  model.train(True)\n",
        "  for i, (images, labels) in enumerate(train_loader):\n",
        "    images = images.to(device)\n",
        "    labels = labels.to(device)\n",
        "\n",
        "    images = images.view(images.shape[0], -1)\n",
        "\n",
        "    # Forward + Backward + Optimize\n",
        "    model.zero_grad()\n",
        "    outputs = model(images)\n",
        "    loss = criterion(outputs, labels)\n",
        "    loss.backward()\n",
        "\n",
        "    agg_train_loss += loss.item()\n",
        "    _, predicted = torch.max(outputs.data, 1)\n",
        "    agg_train_correct += (predicted == labels).sum()\n",
        "    \n",
        "    # Stochastic gradient descent\n",
        "    for p in model.parameters():        \n",
        "        p.data.add_(-learning_rate, p.grad.data)\n",
        "  \n",
        "  train_losses.append(agg_train_loss / len(train_loader))\n",
        "  train_accs.append(agg_train_correct / len(train_dataset))\n",
        "\n",
        "  # Testing\n",
        "  model.train(False)\n",
        "  with torch.no_grad():\n",
        "    for i, (images, labels) in enumerate(test_loader):\n",
        "      images = images.to(device)\n",
        "      labels = labels.to(device)\n",
        "\n",
        "      images = images.view(images.shape[0], -1)\n",
        "\n",
        "      # Forward only\n",
        "      outputs = model(images)\n",
        "      loss = criterion(outputs, labels)\n",
        "\n",
        "      agg_test_loss += loss.item()\n",
        "\n",
        "      _, predicted = torch.max(outputs.data, 1)\n",
        "      agg_test_correct += (predicted == labels).sum()\n",
        "  \n",
        "  test_losses.append(agg_test_loss / len(test_loader))\n",
        "  test_accs.append(agg_test_correct / len(test_dataset))\n",
        "  "
      ],
      "execution_count": 224,
      "outputs": []
    },
    {
      "cell_type": "code",
      "metadata": {
        "id": "HVKjnqcS1TMC"
      },
      "source": [
        "test_losses_by_layer={'2_layer':int,'3_layer':int,'4_layet':int}\n",
        "test_accs_by_layer={'2_layer':int,'3_layer':int,'4_layet':int}\n",
        "train_losses_by_layer={'2_layer':int,'3_layer':int,'4_layet':int}\n",
        "train_accs_by_layer={'2_layer':int,'3_layer':int,'4_layet':int}"
      ],
      "execution_count": 225,
      "outputs": []
    },
    {
      "cell_type": "code",
      "metadata": {
        "id": "glUEsDPb0Ard"
      },
      "source": [
        "\n",
        "test_losses_by_layer['2_layer']=test_losses[len(test_losses)-1]\n",
        "test_accs_by_layer['2_layer']=test_accs[len(test_accs)-1]\n",
        "train_losses_by_layer['2_layer']=train_losses[len(train_losses)-1]\n",
        "train_accs_by_layer['2_layer']=train_accs[len(train_accs)-1]"
      ],
      "execution_count": 226,
      "outputs": []
    },
    {
      "cell_type": "code",
      "metadata": {
        "colab": {
          "base_uri": "https://localhost:8080/",
          "height": 295
        },
        "id": "huCFJQUkyV89",
        "outputId": "29969b59-5139-4fcb-bc7b-7ef72038b3c0"
      },
      "source": [
        "plt.plot(test_losses, label='Test loss')\n",
        "plt.plot(train_losses, label='Train loss')\n",
        "\n",
        "plt.title('Loss values / epochs on MNIST')\n",
        "plt.ylabel('Loss value')\n",
        "plt.xlabel('Epoch')\n",
        "plt.legend()\n",
        "\n",
        "plt.show()"
      ],
      "execution_count": 227,
      "outputs": [
        {
          "output_type": "display_data",
          "data": {
            "image/png": "[encoded data removed]",
            "text/plain": [
              "<Figure size 432x288 with 1 Axes>"
            ]
          },
          "metadata": {}
        }
      ]
    },
    {
      "cell_type": "code",
      "metadata": {
        "colab": {
          "base_uri": "https://localhost:8080/",
          "height": 295
        },
        "id": "9POJzFvfyYnZ",
        "outputId": "546cd689-d2f0-4080-f60c-ae770f235051"
      },
      "source": [
        "plt.plot(test_accs, label='Test acc.')\n",
        "plt.plot(train_accs, label='Train acc.')\n",
        "\n",
        "plt.title('Accuracy / epochs on MNIST')\n",
        "plt.ylabel('Accuracy')\n",
        "plt.xlabel('Epoch')\n",
        "plt.legend()\n",
        "\n",
        "plt.show()"
      ],
      "execution_count": 228,
      "outputs": [
        {
          "output_type": "display_data",
          "data": {
            "image/png": "[encoded data removed]",
            "text/plain": [
              "<Figure size 432x288 with 1 Axes>"
            ]
          },
          "metadata": {}
        }
      ]
    },
    {
      "cell_type": "code",
      "metadata": {
        "id": "ZcZgAkPXxj_9"
      },
      "source": [
        "class SimpleNN_3_layer(nn.Module):\n",
        "    def __init__(self, input_size, output_size):\n",
        "        super(SimpleNN_3_layer, self).__init__()\n",
        "        self.first_linear = nn.Linear(input_size,128)\n",
        "        self.second_linear = nn.Linear(128, 64)\n",
        "        self.third_liner=nn.Linear(64, output_size)\n",
        "         \n",
        "        self.relu1=nn.ReLU()\n",
        "        self.relu2=nn.Sigmoid()\n",
        "          \n",
        "        \n",
        "    \n",
        "    def forward(self, x):\n",
        "        out = self.first_linear(x)\n",
        "        out = self.relu1(out)\n",
        "        out = self.second_linear(out)\n",
        "        out = self.relu2(out)\n",
        "        out = self.third_liner(out)\n",
        "        return out"
      ],
      "execution_count": 229,
      "outputs": []
    },
    {
      "cell_type": "code",
      "metadata": {
        "id": "d2-1mfO2xq51"
      },
      "source": [
        "model = SimpleNN_3_layer(input_size, output_size)\n",
        "model = model.to(device)\n",
        "\n",
        "criterion = nn.CrossEntropyLoss()"
      ],
      "execution_count": 230,
      "outputs": []
    },
    {
      "cell_type": "code",
      "metadata": {
        "id": "MaP_5WHIxrdQ"
      },
      "source": [
        "train_losses = []\n",
        "test_losses = []\n",
        "\n",
        "train_accs = []\n",
        "test_accs = []\n",
        "\n",
        "for epoch in range(num_epochs):\n",
        "  agg_train_loss = 0\n",
        "  agg_test_loss = 0\n",
        "\n",
        "  agg_train_correct = 0\n",
        "  agg_test_correct = 0\n",
        "\n",
        "  # Training\n",
        "  model.train(True)\n",
        "  for i, (images, labels) in enumerate(train_loader):\n",
        "    images = images.to(device)\n",
        "    labels = labels.to(device)\n",
        "\n",
        "    images = images.view(images.shape[0], -1)\n",
        "\n",
        "    # Forward + Backward + Optimize\n",
        "    model.zero_grad()\n",
        "    outputs = model(images)\n",
        "    loss = criterion(outputs, labels)\n",
        "    loss.backward()\n",
        "\n",
        "    agg_train_loss += loss.item()\n",
        "    _, predicted = torch.max(outputs.data, 1)\n",
        "    agg_train_correct += (predicted == labels).sum()\n",
        "    \n",
        "    # Stochastic gradient descent\n",
        "    for p in model.parameters():        \n",
        "        p.data.add_(-learning_rate, p.grad.data)\n",
        "  \n",
        "  train_losses.append(agg_train_loss / len(train_loader))\n",
        "  train_accs.append(agg_train_correct / len(train_dataset))\n",
        "\n",
        "  # Testing\n",
        "  model.train(False)\n",
        "  with torch.no_grad():\n",
        "    for i, (images, labels) in enumerate(test_loader):\n",
        "      images = images.to(device)\n",
        "      labels = labels.to(device)\n",
        "\n",
        "      images = images.view(images.shape[0], -1)\n",
        "\n",
        "      # Forward only\n",
        "      outputs = model(images)\n",
        "      loss = criterion(outputs, labels)\n",
        "\n",
        "      agg_test_loss += loss.item()\n",
        "\n",
        "      _, predicted = torch.max(outputs.data, 1)\n",
        "      agg_test_correct += (predicted == labels).sum()\n",
        "  \n",
        "  test_losses.append(agg_test_loss / len(test_loader))\n",
        "  test_accs.append(agg_test_correct / len(test_dataset))"
      ],
      "execution_count": 231,
      "outputs": []
    },
    {
      "cell_type": "code",
      "metadata": {
        "id": "M-AZhI6q1hhS"
      },
      "source": [
        "test_losses_by_layer['3_layer']=test_losses[len(test_losses)-1]\n",
        "test_accs_by_layer['3_layer']=test_accs[len(test_accs)-1]\n",
        "train_losses_by_layer['3_layer']=train_losses[len(train_losses)-1]\n",
        "train_accs_by_layer['3_layer']=train_accs[len(train_accs)-1]"
      ],
      "execution_count": 232,
      "outputs": []
    },
    {
      "cell_type": "code",
      "metadata": {
        "colab": {
          "base_uri": "https://localhost:8080/",
          "height": 295
        },
        "id": "sADrUwhSxwoz",
        "outputId": "29c17a22-7745-445c-8b08-ba6d101efdec"
      },
      "source": [
        "plt.plot(test_losses, label='Test loss')\n",
        "plt.plot(train_losses, label='Train loss')\n",
        "\n",
        "plt.title('Loss values / epochs on MNIST')\n",
        "plt.ylabel('Loss value')\n",
        "plt.xlabel('Epoch')\n",
        "plt.legend()\n",
        "\n",
        "plt.show()"
      ],
      "execution_count": 233,
      "outputs": [
        {
          "output_type": "display_data",
          "data": {
            "image/png": "[encoded data removed]",
            "text/plain": [
              "<Figure size 432x288 with 1 Axes>"
            ]
          },
          "metadata": {}
        }
      ]
    },
    {
      "cell_type": "code",
      "metadata": {
        "id": "Ye9jCrJ2y5ck",
        "colab": {
          "base_uri": "https://localhost:8080/",
          "height": 295
        },
        "outputId": "2926f6d3-0674-482a-b15d-c2f0fec433ef"
      },
      "source": [
        "plt.plot(test_accs, label='Test acc.')\n",
        "plt.plot(train_accs, label='Train acc.')\n",
        "\n",
        "plt.title('Accuracy / epochs on MNIST')\n",
        "plt.ylabel('Accuracy')\n",
        "plt.xlabel('Epoch')\n",
        "plt.legend()\n",
        "\n",
        "plt.show()"
      ],
      "execution_count": 235,
      "outputs": [
        {
          "output_type": "display_data",
          "data": {
            "image/png": "[encoded data removed]",
            "text/plain": [
              "<Figure size 432x288 with 1 Axes>"
            ]
          },
          "metadata": {}
        }
      ]
    },
    {
      "cell_type": "code",
      "metadata": {
        "id": "tSmKV_zMzgeK"
      },
      "source": [
        "class SimpleNN_4_layer(nn.Module):\n",
        "    def __init__(self, input_size, output_size):\n",
        "          super(SimpleNN_4_layer, self).__init__()\n",
        "          self.first_linear = nn.Linear(input_size,128)\n",
        "          self.second_linear = nn.Linear(128, 64)\n",
        "          self.third_liner=nn.Linear(64,32)\n",
        "          self.Fourth_liner=nn.Linear(32, output_size)\n",
        "          \n",
        "          self.relu1=nn.ReLU()\n",
        "          self.relu2=nn.Sigmoid()\n",
        "          self.relu3=nn.Tanh()\n",
        "    \n",
        "    def forward(self, x):\n",
        "        out = self.first_linear(x)\n",
        "        out = self.relu1(out)\n",
        "        out = self.second_linear(out)\n",
        "        out = self.relu2(out)\n",
        "        out = self.third_liner(out)\n",
        "        out = self.relu3(out)\n",
        "        out = self.Fourth_liner(out)\n",
        "        \n",
        "        return out"
      ],
      "execution_count": 242,
      "outputs": []
    },
    {
      "cell_type": "code",
      "metadata": {
        "id": "8ci8VLB_zlbX"
      },
      "source": [
        "model = SimpleNN_4_layer(input_size, output_size)\n",
        "model = model.to(device)\n",
        "\n",
        "criterion = nn.CrossEntropyLoss()"
      ],
      "execution_count": 243,
      "outputs": []
    },
    {
      "cell_type": "code",
      "metadata": {
        "id": "drMcyHnkzmDF"
      },
      "source": [
        "train_losses = []\n",
        "test_losses = []\n",
        "\n",
        "train_accs = []\n",
        "test_accs = []\n",
        "\n",
        "for epoch in range(num_epochs):\n",
        "  agg_train_loss = 0\n",
        "  agg_test_loss = 0\n",
        "\n",
        "  agg_train_correct = 0\n",
        "  agg_test_correct = 0\n",
        "\n",
        "  # Training\n",
        "  model.train(True)\n",
        "  for i, (images, labels) in enumerate(train_loader):\n",
        "    images = images.to(device)\n",
        "    labels = labels.to(device)\n",
        "\n",
        "    images = images.view(images.shape[0], -1)\n",
        "\n",
        "    # Forward + Backward + Optimize\n",
        "    model.zero_grad()\n",
        "    outputs = model(images)\n",
        "    loss = criterion(outputs, labels)\n",
        "    loss.backward()\n",
        "\n",
        "    agg_train_loss += loss.item()\n",
        "    _, predicted = torch.max(outputs.data, 1)\n",
        "    agg_train_correct += (predicted == labels).sum()\n",
        "    \n",
        "    # Stochastic gradient descent\n",
        "    for p in model.parameters():        \n",
        "        p.data.add_(-learning_rate, p.grad.data)\n",
        "  \n",
        "  train_losses.append(agg_train_loss / len(train_loader))\n",
        "  train_accs.append(agg_train_correct / len(train_dataset))\n",
        "\n",
        "  # Testing\n",
        "  model.train(False)\n",
        "  with torch.no_grad():\n",
        "    for i, (images, labels) in enumerate(test_loader):\n",
        "      images = images.to(device)\n",
        "      labels = labels.to(device)\n",
        "\n",
        "      images = images.view(images.shape[0], -1)\n",
        "\n",
        "      # Forward only\n",
        "      outputs = model(images)\n",
        "      loss = criterion(outputs, labels)\n",
        "\n",
        "      agg_test_loss += loss.item()\n",
        "\n",
        "      _, predicted = torch.max(outputs.data, 1)\n",
        "      agg_test_correct += (predicted == labels).sum()\n",
        "  \n",
        "  test_losses.append(agg_test_loss / len(test_loader))\n",
        "  test_accs.append(agg_test_correct / len(test_dataset))"
      ],
      "execution_count": 244,
      "outputs": []
    },
    {
      "cell_type": "code",
      "metadata": {
        "id": "CKQkqxAc1m8R"
      },
      "source": [
        "test_losses_by_layer['4_layer']=test_losses[len(test_losses)-1]\n",
        "test_accs_by_layer['4_layer']=test_accs[len(test_accs)-1]\n",
        "train_losses_by_layer['4_layer']=train_losses[len(train_losses)-1]\n",
        "train_accs_by_layer['4_layer']=train_accs[len(train_accs)-1]"
      ],
      "execution_count": 245,
      "outputs": []
    },
    {
      "cell_type": "code",
      "metadata": {
        "id": "dedBYSyzzq63",
        "colab": {
          "base_uri": "https://localhost:8080/",
          "height": 295
        },
        "outputId": "3c4890a7-cb31-49b2-90f3-1c478e84ae46"
      },
      "source": [
        "plt.plot(test_losses, label='Test loss')\n",
        "plt.plot(train_losses, label='Train loss')\n",
        "\n",
        "plt.title('Loss values / epochs on MNIST')\n",
        "plt.ylabel('Loss value')\n",
        "plt.xlabel('Epoch')\n",
        "plt.legend()\n",
        "\n",
        "plt.show()"
      ],
      "execution_count": 247,
      "outputs": [
        {
          "output_type": "display_data",
          "data": {
            "image/png": "[encoded data removed]",
            "text/plain": [
              "<Figure size 432x288 with 1 Axes>"
            ]
          },
          "metadata": {}
        }
      ]
    },
    {
      "cell_type": "code",
      "metadata": {
        "id": "aiQE1Xn3z1DT",
        "colab": {
          "base_uri": "https://localhost:8080/",
          "height": 295
        },
        "outputId": "1f0024f7-57e4-47de-a966-bd7afbf1c7be"
      },
      "source": [
        "plt.plot(test_accs, label='Test acc.')\n",
        "plt.plot(train_accs, label='Train acc.')\n",
        "\n",
        "plt.title('Accuracy / epochs on MNIST')\n",
        "plt.ylabel('Accuracy')\n",
        "plt.xlabel('Epoch')\n",
        "plt.legend()\n",
        "\n",
        "plt.show()"
      ],
      "execution_count": 249,
      "outputs": [
        {
          "output_type": "display_data",
          "data": {
            "image/png": "[encoded data removed]",
            "text/plain": [
              "<Figure size 432x288 with 1 Axes>"
            ]
          },
          "metadata": {}
        }
      ]
    },
    {
      "cell_type": "code",
      "source": [
        "test_losses_by_layer['3_layer']"
      ],
      "metadata": {
        "id": "sO3AdVX95wRO"
      },
      "execution_count": null,
      "outputs": []
    },
    {
      "cell_type": "code",
      "metadata": {
        "id": "NZC8aNYtGuk_"
      },
      "source": [
        "##q2"
      ],
      "execution_count": null,
      "outputs": []
    },
    {
      "cell_type": "code",
      "metadata": {
        "id": "DDSEZiceGxWf"
      },
      "source": [
        "batch_size = 128\n",
        "input_size = 28 * 28\n",
        "output_size = 2\n",
        "num_epochs = 400\n",
        "learning_rate = 0.15"
      ],
      "execution_count": null,
      "outputs": []
    },
    {
      "cell_type": "code",
      "metadata": {
        "id": "6ZKLRV2WHo1q"
      },
      "source": [
        "device = torch.device('cuda' if torch.cuda.is_available() else 'cpu')"
      ],
      "execution_count": null,
      "outputs": []
    },
    {
      "cell_type": "code",
      "metadata": {
        "id": "HIAYad4xHqRg"
      },
      "source": [
        "train_dataset = datasets.MNIST(root='./data',\n",
        "                               train=True,\n",
        "                               transform=transforms.ToTensor(),\n",
        "                               download=True)\n",
        "\n",
        "test_dataset = datasets.MNIST(root='./data', \n",
        "                              train=False, \n",
        "                              transform=transforms.ToTensor(),  \n",
        "                              download=True)\n",
        "\n",
        "train_loader = torch.utils.data.DataLoader(dataset=train_dataset,\n",
        "                                           batch_size=batch_size, \n",
        "                                           shuffle=False)\n",
        "\n",
        "test_loader = torch.utils.data.DataLoader(dataset=test_dataset,\n",
        "                                           batch_size=batch_size,\n",
        "                                           shuffle=False)\n",
        "\n"
      ],
      "execution_count": null,
      "outputs": []
    },
    {
      "cell_type": "code",
      "metadata": {
        "id": "pQPmYWtMTxOq"
      },
      "source": [
        "my_data = next(iter(train_loader))[0]\n",
        "train_lable = torch.ones(128)*0.5\n",
        "train_lable = torch.bernoulli(train_lable)\n",
        "train_lable = train_lable.long()\n",
        "test_label = torch.ones(len(test_dataset))*0.5\n",
        "test_label = torch.bernoulli(test_label)\n",
        "test_dataset.targets = test_label.long()"
      ],
      "execution_count": null,
      "outputs": []
    },
    {
      "cell_type": "code",
      "metadata": {
        "id": "lRUcS3lkS4uY"
      },
      "source": [
        "class SimpleNN(nn.Module):\n",
        "    def __init__(self, input_size, output_size):\n",
        "        super(SimpleNN, self).__init__()\n",
        "        self.first_linear = nn.Linear(input_size, input_size // 2)\n",
        "        self.second_linear = nn.Linear(input_size // 2, output_size)\n",
        "        \n",
        "        self.relu = nn.ReLU()\n",
        "\n",
        "    def forward(self, x):\n",
        "        out = self.first_linear(x)\n",
        "        out = self.relu(out)\n",
        "        out = self.second_linear(out)\n",
        "        \n",
        "        return out"
      ],
      "execution_count": null,
      "outputs": []
    },
    {
      "cell_type": "code",
      "metadata": {
        "id": "PguGlta3SlED"
      },
      "source": [
        "model = SimpleNN(input_size, output_size)\n",
        "model = model.to(device)\n",
        "optimizer = optim.SGD(model.parameters(), lr=0.15, momentum=0.9)\n",
        "criterion = nn.CrossEntropyLoss()"
      ],
      "execution_count": null,
      "outputs": []
    },
    {
      "cell_type": "code",
      "metadata": {
        "id": "OMY_fAQaHu--"
      },
      "source": [
        "train_losses = []\n",
        "test_losses = []\n",
        "\n",
        "train_accs = []\n",
        "test_accs = []\n",
        "\n",
        "for epoch in range(num_epochs):\n",
        "  agg_train_loss = 0\n",
        "  agg_test_loss = 0\n",
        "\n",
        "  agg_train_correct = 0\n",
        "  agg_test_correct = 0\n",
        "\n",
        "  # Training\n",
        "  model.train(True)\n",
        "  images = my_data.to(device)\n",
        "  labels = train_lable.to(device)\n",
        "\n",
        "  images = images.view(images.shape[0], -1)\n",
        "\n",
        "  # Forward + Backward + Optimize\n",
        "  optimizer.zero_grad()\n",
        "  outputs = model(images)\n",
        "  loss = criterion(outputs, labels)\n",
        "  loss.backward()\n",
        "\n",
        "  agg_train_loss += loss.item()\n",
        "  _, predicted = torch.max(outputs.data, 1)\n",
        "  agg_train_correct += (predicted == labels).sum()\n",
        "\n",
        "  # Stochastic gradient descent\n",
        "  optimizer.step()\n",
        "  for p in model.parameters():        \n",
        "        p.data.add_(-learning_rate, p.grad.data)\n",
        "  train_losses.append(agg_train_loss/ len(my_data))\n",
        "  train_accs.append(agg_train_correct / len(my_data))\n",
        "\n",
        "  # Testing\n",
        "  model.train(False)\n",
        "  with torch.no_grad():\n",
        "    for i, (images, labels) in enumerate(test_loader):\n",
        "     \n",
        "      images = images.to(device)\n",
        "      labels = labels.to(device)\n",
        "\n",
        "      images = images.view(images.shape[0], -1)\n",
        "\n",
        "      # Forward only\n",
        "      outputs = model(images)\n",
        "      loss = criterion(outputs, labels)\n",
        "\n",
        "      agg_test_loss += loss.item()\n",
        "\n",
        "      _, predicted = torch.max(outputs.data, 1)\n",
        "      agg_test_correct += (predicted == labels).sum()\n",
        "  \n",
        "\n",
        "  test_losses.append(agg_test_loss / len(test_loader))\n",
        "  test_accs.append(agg_test_correct / len(test_dataset)) "
      ],
      "execution_count": null,
      "outputs": []
    },
    {
      "cell_type": "code",
      "metadata": {
        "colab": {
          "base_uri": "https://localhost:8080/",
          "height": 295
        },
        "id": "PPpF37NfQoO_",
        "outputId": "d8f406bb-2d44-43e2-d296-84a6dd616dff"
      },
      "source": [
        "plt.plot(test_losses, label='Test loss')\n",
        "plt.plot(train_losses, label='Train loss')\n",
        "\n",
        "plt.title('Loss values / epochs on MNIST')\n",
        "plt.ylabel('Loss value')\n",
        "plt.xlabel('Epoch')\n",
        "plt.legend()\n",
        "\n",
        "plt.show()"
      ],
      "execution_count": null,
      "outputs": [
        {
          "output_type": "display_data",
          "data": {
            "image/png": "[encoded data removed]",
            "text/plain": [
              "<Figure size 432x288 with 1 Axes>"
            ]
          },
          "metadata": {}
        }
      ]
    },
    {
      "cell_type": "code",
      "metadata": {
        "colab": {
          "base_uri": "https://localhost:8080/",
          "height": 295
        },
        "id": "R8jo6P0CQ82A",
        "outputId": "f1331c7c-0d6d-4427-92f7-7eb965e2f319"
      },
      "source": [
        "plt.plot(test_accs, label='Test acc.')\n",
        "plt.plot(train_accs, label='Train acc.')\n",
        "\n",
        "plt.title('Accuracy / epochs on MNIST')\n",
        "plt.ylabel('Accuracy')\n",
        "plt.xlabel('Epoch')\n",
        "plt.legend()\n",
        "\n",
        "plt.show()"
      ],
      "execution_count": null,
      "outputs": [
        {
          "output_type": "display_data",
          "data": {
            "image/png": "[encoded data removed]",
            "text/plain": [
              "<Figure size 432x288 with 1 Axes>"
            ]
          },
          "metadata": {}
        }
      ]
    },
    {
      "cell_type": "code",
      "metadata": {
        "id": "PI-EMFRxhayS"
      },
      "source": [
        ""
      ],
      "execution_count": null,
      "outputs": []
    }
  ]
}